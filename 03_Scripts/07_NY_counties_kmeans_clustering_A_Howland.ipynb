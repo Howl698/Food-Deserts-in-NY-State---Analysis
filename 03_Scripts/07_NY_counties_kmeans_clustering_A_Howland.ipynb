{
 "cells": [
  {
   "cell_type": "markdown",
   "metadata": {},
   "source": [
    "# NY counties k-means clustering\n"
   ]
  },
  {
   "cell_type": "markdown",
   "metadata": {},
   "source": [
    "## This script contains the following points:\n",
    "1. Import libraries\n",
    "2. Import ny_county3_total.csv dataset\n",
    "3. Verify the dataset\n",
    "3. Data prep for elbow technique\n",
    "4. Elbow technique \n",
    "5. k-means clustering\n",
    "6. Evaluate results"
   ]
  },
  {
   "cell_type": "markdown",
   "metadata": {},
   "source": [
    "### 1. Importing Libraries"
   ]
  },
  {
   "cell_type": "code",
   "execution_count": 1,
   "metadata": {
    "_kg_hide-input": false
   },
   "outputs": [],
   "source": [
    "# data processing, CSV file I/O (e.g. pd.read_csv)\n",
    "import pandas as pd \n",
    "\n",
    "# import visualization libraries\n",
    "import numpy as np # linear algebra\n",
    "import os # accessing directory structure\n",
    "\n",
    "# for graphs\n",
    "import seaborn as sns\n",
    "import matplotlib\n",
    "import matplotlib.pyplot as plt\n",
    "\n",
    "# PyLab is a convenience module that bulk imports matplotlib\n",
    "import pylab as pl \n",
    "\n",
    "# import the k-means algorithm from scikit-learn\n",
    "import sklearn\n",
    "from sklearn.cluster import KMeans "
   ]
  },
  {
   "cell_type": "markdown",
   "metadata": {},
   "source": [
    "### 2. Importing NY State dataset"
   ]
  },
  {
   "cell_type": "markdown",
   "metadata": {},
   "source": [
    "The dataset NY_county3_total.csv was created by combining data from the USDA FOOD Access Research Atlas and NY State Medicaid data, inclusive of NYS counties with total populations of 100k or less, Total Low Income populations in those counties, and average monthly Medicaid beneficiaries.\n",
    "\n",
    "NY State Medicaid data prepared by NYS Department of Health, Fiscal Management Group, FSSU, Data Management @ https://www.health.ny.gov/statistics/health_care/medicaid/quarterly/ssd/.\n"
   ]
  },
  {
   "cell_type": "code",
   "execution_count": 2,
   "metadata": {},
   "outputs": [],
   "source": [
    "path = r'C:\\Users\\howl6\\OneDrive\\Certificates\\CareerFoundry\\Coursework\\Data_Immersion\\Chapter 6\\Food_Desert'"
   ]
  },
  {
   "cell_type": "code",
   "execution_count": 28,
   "metadata": {},
   "outputs": [],
   "source": [
    "ny_county = pd.read_csv(os.path.join(path, '02_Data', 'cleaned_data', 'ny_county3_total.csv'), index_col=False)"
   ]
  },
  {
   "cell_type": "code",
   "execution_count": 29,
   "metadata": {},
   "outputs": [],
   "source": [
    "pd.set_option('display.max_rows', 500)\n",
    "pd.set_option('display.max_columns', 500)"
   ]
  },
  {
   "cell_type": "markdown",
   "metadata": {},
   "source": [
    "### 3. Verify the dataset"
   ]
  },
  {
   "cell_type": "code",
   "execution_count": 30,
   "metadata": {
    "scrolled": false
   },
   "outputs": [
    {
     "data": {
      "text/html": [
       "<div>\n",
       "<style scoped>\n",
       "    .dataframe tbody tr th:only-of-type {\n",
       "        vertical-align: middle;\n",
       "    }\n",
       "\n",
       "    .dataframe tbody tr th {\n",
       "        vertical-align: top;\n",
       "    }\n",
       "\n",
       "    .dataframe thead th {\n",
       "        text-align: right;\n",
       "    }\n",
       "</style>\n",
       "<table border=\"1\" class=\"dataframe\">\n",
       "  <thead>\n",
       "    <tr style=\"text-align: right;\">\n",
       "      <th></th>\n",
       "      <th>Unnamed: 0</th>\n",
       "      <th>County</th>\n",
       "      <th>Total_Population</th>\n",
       "      <th>Sum of Total_Low_Income</th>\n",
       "      <th>Average Monthly Beneficiaries</th>\n",
       "      <th>Population_flag</th>\n",
       "    </tr>\n",
       "  </thead>\n",
       "  <tbody>\n",
       "    <tr>\n",
       "      <th>0</th>\n",
       "      <td>1</td>\n",
       "      <td>Allegany</td>\n",
       "      <td>48946</td>\n",
       "      <td>16451</td>\n",
       "      <td>8696</td>\n",
       "      <td>Low_Population</td>\n",
       "    </tr>\n",
       "    <tr>\n",
       "      <th>1</th>\n",
       "      <td>3</td>\n",
       "      <td>Cattaraugus</td>\n",
       "      <td>80317</td>\n",
       "      <td>29283</td>\n",
       "      <td>15125</td>\n",
       "      <td>Low_Population</td>\n",
       "    </tr>\n",
       "    <tr>\n",
       "      <th>2</th>\n",
       "      <td>4</td>\n",
       "      <td>Cayuga</td>\n",
       "      <td>80026</td>\n",
       "      <td>22934</td>\n",
       "      <td>13683</td>\n",
       "      <td>Low_Population</td>\n",
       "    </tr>\n",
       "    <tr>\n",
       "      <th>3</th>\n",
       "      <td>6</td>\n",
       "      <td>Chemung</td>\n",
       "      <td>88830</td>\n",
       "      <td>28180</td>\n",
       "      <td>17994</td>\n",
       "      <td>Low_Population</td>\n",
       "    </tr>\n",
       "    <tr>\n",
       "      <th>4</th>\n",
       "      <td>7</td>\n",
       "      <td>Chenango</td>\n",
       "      <td>50477</td>\n",
       "      <td>17390</td>\n",
       "      <td>9844</td>\n",
       "      <td>Low_Population</td>\n",
       "    </tr>\n",
       "    <tr>\n",
       "      <th>5</th>\n",
       "      <td>8</td>\n",
       "      <td>Clinton</td>\n",
       "      <td>82128</td>\n",
       "      <td>23298</td>\n",
       "      <td>14817</td>\n",
       "      <td>Low_Population</td>\n",
       "    </tr>\n",
       "    <tr>\n",
       "      <th>6</th>\n",
       "      <td>9</td>\n",
       "      <td>Columbia</td>\n",
       "      <td>63096</td>\n",
       "      <td>16729</td>\n",
       "      <td>9871</td>\n",
       "      <td>Low_Population</td>\n",
       "    </tr>\n",
       "    <tr>\n",
       "      <th>7</th>\n",
       "      <td>10</td>\n",
       "      <td>Cortland</td>\n",
       "      <td>49336</td>\n",
       "      <td>14994</td>\n",
       "      <td>9248</td>\n",
       "      <td>Low_Population</td>\n",
       "    </tr>\n",
       "    <tr>\n",
       "      <th>8</th>\n",
       "      <td>11</td>\n",
       "      <td>Delaware</td>\n",
       "      <td>47980</td>\n",
       "      <td>15031</td>\n",
       "      <td>8159</td>\n",
       "      <td>Low_Population</td>\n",
       "    </tr>\n",
       "    <tr>\n",
       "      <th>9</th>\n",
       "      <td>14</td>\n",
       "      <td>Essex</td>\n",
       "      <td>39370</td>\n",
       "      <td>10275</td>\n",
       "      <td>5949</td>\n",
       "      <td>Low_Population</td>\n",
       "    </tr>\n",
       "    <tr>\n",
       "      <th>10</th>\n",
       "      <td>15</td>\n",
       "      <td>Franklin</td>\n",
       "      <td>51599</td>\n",
       "      <td>16914</td>\n",
       "      <td>9143</td>\n",
       "      <td>Low_Population</td>\n",
       "    </tr>\n",
       "    <tr>\n",
       "      <th>11</th>\n",
       "      <td>16</td>\n",
       "      <td>Fulton</td>\n",
       "      <td>55531</td>\n",
       "      <td>19378</td>\n",
       "      <td>12008</td>\n",
       "      <td>Low_Population</td>\n",
       "    </tr>\n",
       "    <tr>\n",
       "      <th>12</th>\n",
       "      <td>17</td>\n",
       "      <td>Genesee</td>\n",
       "      <td>60079</td>\n",
       "      <td>15181</td>\n",
       "      <td>8381</td>\n",
       "      <td>Low_Population</td>\n",
       "    </tr>\n",
       "    <tr>\n",
       "      <th>13</th>\n",
       "      <td>18</td>\n",
       "      <td>Greene</td>\n",
       "      <td>49221</td>\n",
       "      <td>14223</td>\n",
       "      <td>8354</td>\n",
       "      <td>Low_Population</td>\n",
       "    </tr>\n",
       "    <tr>\n",
       "      <th>14</th>\n",
       "      <td>19</td>\n",
       "      <td>Hamilton</td>\n",
       "      <td>4836</td>\n",
       "      <td>1223</td>\n",
       "      <td>620</td>\n",
       "      <td>Low_Population</td>\n",
       "    </tr>\n",
       "    <tr>\n",
       "      <th>15</th>\n",
       "      <td>20</td>\n",
       "      <td>Herkimer</td>\n",
       "      <td>64519</td>\n",
       "      <td>21286</td>\n",
       "      <td>13002</td>\n",
       "      <td>Low_Population</td>\n",
       "    </tr>\n",
       "    <tr>\n",
       "      <th>16</th>\n",
       "      <td>22</td>\n",
       "      <td>Lewis</td>\n",
       "      <td>27087</td>\n",
       "      <td>9113</td>\n",
       "      <td>4498</td>\n",
       "      <td>Low_Population</td>\n",
       "    </tr>\n",
       "    <tr>\n",
       "      <th>17</th>\n",
       "      <td>23</td>\n",
       "      <td>Livingston</td>\n",
       "      <td>65393</td>\n",
       "      <td>17137</td>\n",
       "      <td>8971</td>\n",
       "      <td>Low_Population</td>\n",
       "    </tr>\n",
       "    <tr>\n",
       "      <th>18</th>\n",
       "      <td>24</td>\n",
       "      <td>Madison</td>\n",
       "      <td>73442</td>\n",
       "      <td>18176</td>\n",
       "      <td>10879</td>\n",
       "      <td>Low_Population</td>\n",
       "    </tr>\n",
       "    <tr>\n",
       "      <th>19</th>\n",
       "      <td>26</td>\n",
       "      <td>Montgomery</td>\n",
       "      <td>50219</td>\n",
       "      <td>20903</td>\n",
       "      <td>11868</td>\n",
       "      <td>Low_Population</td>\n",
       "    </tr>\n",
       "    <tr>\n",
       "      <th>20</th>\n",
       "      <td>34</td>\n",
       "      <td>Orleans</td>\n",
       "      <td>42883</td>\n",
       "      <td>14008</td>\n",
       "      <td>8195</td>\n",
       "      <td>Low_Population</td>\n",
       "    </tr>\n",
       "    <tr>\n",
       "      <th>21</th>\n",
       "      <td>36</td>\n",
       "      <td>Otsego</td>\n",
       "      <td>62259</td>\n",
       "      <td>18748</td>\n",
       "      <td>9578</td>\n",
       "      <td>Low_Population</td>\n",
       "    </tr>\n",
       "    <tr>\n",
       "      <th>22</th>\n",
       "      <td>37</td>\n",
       "      <td>Putnam</td>\n",
       "      <td>99710</td>\n",
       "      <td>12914</td>\n",
       "      <td>6940</td>\n",
       "      <td>Low_Population</td>\n",
       "    </tr>\n",
       "    <tr>\n",
       "      <th>23</th>\n",
       "      <td>43</td>\n",
       "      <td>Schoharie</td>\n",
       "      <td>32749</td>\n",
       "      <td>8757</td>\n",
       "      <td>4971</td>\n",
       "      <td>Low_Population</td>\n",
       "    </tr>\n",
       "    <tr>\n",
       "      <th>24</th>\n",
       "      <td>44</td>\n",
       "      <td>Schuyler</td>\n",
       "      <td>18343</td>\n",
       "      <td>6359</td>\n",
       "      <td>3474</td>\n",
       "      <td>Low_Population</td>\n",
       "    </tr>\n",
       "    <tr>\n",
       "      <th>25</th>\n",
       "      <td>45</td>\n",
       "      <td>Seneca</td>\n",
       "      <td>35251</td>\n",
       "      <td>10204</td>\n",
       "      <td>5483</td>\n",
       "      <td>Low_Population</td>\n",
       "    </tr>\n",
       "    <tr>\n",
       "      <th>26</th>\n",
       "      <td>47</td>\n",
       "      <td>Steuben</td>\n",
       "      <td>98990</td>\n",
       "      <td>34073</td>\n",
       "      <td>18376</td>\n",
       "      <td>Low_Population</td>\n",
       "    </tr>\n",
       "    <tr>\n",
       "      <th>27</th>\n",
       "      <td>49</td>\n",
       "      <td>Sullivan</td>\n",
       "      <td>77547</td>\n",
       "      <td>23618</td>\n",
       "      <td>18121</td>\n",
       "      <td>Low_Population</td>\n",
       "    </tr>\n",
       "    <tr>\n",
       "      <th>28</th>\n",
       "      <td>50</td>\n",
       "      <td>Tioga</td>\n",
       "      <td>51125</td>\n",
       "      <td>13820</td>\n",
       "      <td>8062</td>\n",
       "      <td>Low_Population</td>\n",
       "    </tr>\n",
       "    <tr>\n",
       "      <th>29</th>\n",
       "      <td>53</td>\n",
       "      <td>Warren</td>\n",
       "      <td>65707</td>\n",
       "      <td>16625</td>\n",
       "      <td>10173</td>\n",
       "      <td>Low_Population</td>\n",
       "    </tr>\n",
       "    <tr>\n",
       "      <th>30</th>\n",
       "      <td>54</td>\n",
       "      <td>Washington</td>\n",
       "      <td>63216</td>\n",
       "      <td>18769</td>\n",
       "      <td>10674</td>\n",
       "      <td>Low_Population</td>\n",
       "    </tr>\n",
       "    <tr>\n",
       "      <th>31</th>\n",
       "      <td>55</td>\n",
       "      <td>Wayne</td>\n",
       "      <td>93772</td>\n",
       "      <td>25888</td>\n",
       "      <td>15073</td>\n",
       "      <td>Low_Population</td>\n",
       "    </tr>\n",
       "    <tr>\n",
       "      <th>32</th>\n",
       "      <td>57</td>\n",
       "      <td>Wyoming</td>\n",
       "      <td>42155</td>\n",
       "      <td>10737</td>\n",
       "      <td>5391</td>\n",
       "      <td>Low_Population</td>\n",
       "    </tr>\n",
       "    <tr>\n",
       "      <th>33</th>\n",
       "      <td>58</td>\n",
       "      <td>Yates</td>\n",
       "      <td>25348</td>\n",
       "      <td>8044</td>\n",
       "      <td>4027</td>\n",
       "      <td>Low_Population</td>\n",
       "    </tr>\n",
       "  </tbody>\n",
       "</table>\n",
       "</div>"
      ],
      "text/plain": [
       "    Unnamed: 0       County  Total_Population  Sum of Total_Low_Income  \\\n",
       "0            1     Allegany             48946                    16451   \n",
       "1            3  Cattaraugus             80317                    29283   \n",
       "2            4       Cayuga             80026                    22934   \n",
       "3            6      Chemung             88830                    28180   \n",
       "4            7     Chenango             50477                    17390   \n",
       "5            8      Clinton             82128                    23298   \n",
       "6            9     Columbia             63096                    16729   \n",
       "7           10     Cortland             49336                    14994   \n",
       "8           11     Delaware             47980                    15031   \n",
       "9           14        Essex             39370                    10275   \n",
       "10          15     Franklin             51599                    16914   \n",
       "11          16       Fulton             55531                    19378   \n",
       "12          17      Genesee             60079                    15181   \n",
       "13          18       Greene             49221                    14223   \n",
       "14          19     Hamilton              4836                     1223   \n",
       "15          20     Herkimer             64519                    21286   \n",
       "16          22        Lewis             27087                     9113   \n",
       "17          23   Livingston             65393                    17137   \n",
       "18          24      Madison             73442                    18176   \n",
       "19          26   Montgomery             50219                    20903   \n",
       "20          34      Orleans             42883                    14008   \n",
       "21          36       Otsego             62259                    18748   \n",
       "22          37       Putnam             99710                    12914   \n",
       "23          43    Schoharie             32749                     8757   \n",
       "24          44     Schuyler             18343                     6359   \n",
       "25          45       Seneca             35251                    10204   \n",
       "26          47      Steuben             98990                    34073   \n",
       "27          49     Sullivan             77547                    23618   \n",
       "28          50        Tioga             51125                    13820   \n",
       "29          53       Warren             65707                    16625   \n",
       "30          54   Washington             63216                    18769   \n",
       "31          55        Wayne             93772                    25888   \n",
       "32          57      Wyoming             42155                    10737   \n",
       "33          58        Yates             25348                     8044   \n",
       "\n",
       "    Average Monthly Beneficiaries Population_flag  \n",
       "0                            8696  Low_Population  \n",
       "1                           15125  Low_Population  \n",
       "2                           13683  Low_Population  \n",
       "3                           17994  Low_Population  \n",
       "4                            9844  Low_Population  \n",
       "5                           14817  Low_Population  \n",
       "6                            9871  Low_Population  \n",
       "7                            9248  Low_Population  \n",
       "8                            8159  Low_Population  \n",
       "9                            5949  Low_Population  \n",
       "10                           9143  Low_Population  \n",
       "11                          12008  Low_Population  \n",
       "12                           8381  Low_Population  \n",
       "13                           8354  Low_Population  \n",
       "14                            620  Low_Population  \n",
       "15                          13002  Low_Population  \n",
       "16                           4498  Low_Population  \n",
       "17                           8971  Low_Population  \n",
       "18                          10879  Low_Population  \n",
       "19                          11868  Low_Population  \n",
       "20                           8195  Low_Population  \n",
       "21                           9578  Low_Population  \n",
       "22                           6940  Low_Population  \n",
       "23                           4971  Low_Population  \n",
       "24                           3474  Low_Population  \n",
       "25                           5483  Low_Population  \n",
       "26                          18376  Low_Population  \n",
       "27                          18121  Low_Population  \n",
       "28                           8062  Low_Population  \n",
       "29                          10173  Low_Population  \n",
       "30                          10674  Low_Population  \n",
       "31                          15073  Low_Population  \n",
       "32                           5391  Low_Population  \n",
       "33                           4027  Low_Population  "
      ]
     },
     "execution_count": 30,
     "metadata": {},
     "output_type": "execute_result"
    }
   ],
   "source": [
    "ny_county.head(60)"
   ]
  },
  {
   "cell_type": "code",
   "execution_count": 31,
   "metadata": {},
   "outputs": [
    {
     "data": {
      "text/html": [
       "<div>\n",
       "<style scoped>\n",
       "    .dataframe tbody tr th:only-of-type {\n",
       "        vertical-align: middle;\n",
       "    }\n",
       "\n",
       "    .dataframe tbody tr th {\n",
       "        vertical-align: top;\n",
       "    }\n",
       "\n",
       "    .dataframe thead th {\n",
       "        text-align: right;\n",
       "    }\n",
       "</style>\n",
       "<table border=\"1\" class=\"dataframe\">\n",
       "  <thead>\n",
       "    <tr style=\"text-align: right;\">\n",
       "      <th></th>\n",
       "      <th>Unnamed: 0</th>\n",
       "      <th>County</th>\n",
       "      <th>Total_Population</th>\n",
       "      <th>Sum of Total_Low_Income</th>\n",
       "      <th>Average Monthly Beneficiaries</th>\n",
       "      <th>Population_flag</th>\n",
       "    </tr>\n",
       "  </thead>\n",
       "  <tbody>\n",
       "    <tr>\n",
       "      <th>29</th>\n",
       "      <td>53</td>\n",
       "      <td>Warren</td>\n",
       "      <td>65707</td>\n",
       "      <td>16625</td>\n",
       "      <td>10173</td>\n",
       "      <td>Low_Population</td>\n",
       "    </tr>\n",
       "    <tr>\n",
       "      <th>30</th>\n",
       "      <td>54</td>\n",
       "      <td>Washington</td>\n",
       "      <td>63216</td>\n",
       "      <td>18769</td>\n",
       "      <td>10674</td>\n",
       "      <td>Low_Population</td>\n",
       "    </tr>\n",
       "    <tr>\n",
       "      <th>31</th>\n",
       "      <td>55</td>\n",
       "      <td>Wayne</td>\n",
       "      <td>93772</td>\n",
       "      <td>25888</td>\n",
       "      <td>15073</td>\n",
       "      <td>Low_Population</td>\n",
       "    </tr>\n",
       "    <tr>\n",
       "      <th>32</th>\n",
       "      <td>57</td>\n",
       "      <td>Wyoming</td>\n",
       "      <td>42155</td>\n",
       "      <td>10737</td>\n",
       "      <td>5391</td>\n",
       "      <td>Low_Population</td>\n",
       "    </tr>\n",
       "    <tr>\n",
       "      <th>33</th>\n",
       "      <td>58</td>\n",
       "      <td>Yates</td>\n",
       "      <td>25348</td>\n",
       "      <td>8044</td>\n",
       "      <td>4027</td>\n",
       "      <td>Low_Population</td>\n",
       "    </tr>\n",
       "  </tbody>\n",
       "</table>\n",
       "</div>"
      ],
      "text/plain": [
       "    Unnamed: 0      County  Total_Population  Sum of Total_Low_Income  \\\n",
       "29          53      Warren             65707                    16625   \n",
       "30          54  Washington             63216                    18769   \n",
       "31          55       Wayne             93772                    25888   \n",
       "32          57     Wyoming             42155                    10737   \n",
       "33          58       Yates             25348                     8044   \n",
       "\n",
       "    Average Monthly Beneficiaries Population_flag  \n",
       "29                          10173  Low_Population  \n",
       "30                          10674  Low_Population  \n",
       "31                          15073  Low_Population  \n",
       "32                           5391  Low_Population  \n",
       "33                           4027  Low_Population  "
      ]
     },
     "execution_count": 31,
     "metadata": {},
     "output_type": "execute_result"
    }
   ],
   "source": [
    "ny_county.tail()"
   ]
  },
  {
   "cell_type": "code",
   "execution_count": 32,
   "metadata": {},
   "outputs": [
    {
     "data": {
      "text/plain": [
       "(34, 6)"
      ]
     },
     "execution_count": 32,
     "metadata": {},
     "output_type": "execute_result"
    }
   ],
   "source": [
    "ny_county.shape"
   ]
  },
  {
   "cell_type": "code",
   "execution_count": 33,
   "metadata": {},
   "outputs": [
    {
     "data": {
      "text/plain": [
       "Index(['Unnamed: 0', 'County', 'Total_Population', 'Sum of Total_Low_Income',\n",
       "       'Average Monthly Beneficiaries', 'Population_flag'],\n",
       "      dtype='object')"
      ]
     },
     "execution_count": 33,
     "metadata": {},
     "output_type": "execute_result"
    }
   ],
   "source": [
    "ny_county.columns"
   ]
  },
  {
   "cell_type": "code",
   "execution_count": 34,
   "metadata": {},
   "outputs": [
    {
     "data": {
      "text/plain": [
       "Unnamed: 0                        int64\n",
       "County                           object\n",
       "Total_Population                  int64\n",
       "Sum of Total_Low_Income           int64\n",
       "Average Monthly Beneficiaries     int64\n",
       "Population_flag                  object\n",
       "dtype: object"
      ]
     },
     "execution_count": 34,
     "metadata": {},
     "output_type": "execute_result"
    }
   ],
   "source": [
    "ny_county.dtypes"
   ]
  },
  {
   "cell_type": "markdown",
   "metadata": {},
   "source": [
    "### 4. Data Prep for elbow technique"
   ]
  },
  {
   "cell_type": "code",
   "execution_count": 35,
   "metadata": {},
   "outputs": [],
   "source": [
    "# removing categorical columns so that Kmeans can run correctly\n",
    "\n",
    "ny_county4 = ny_county.drop(columns = ['Unnamed: 0', 'County','Population_flag'])"
   ]
  },
  {
   "cell_type": "code",
   "execution_count": 36,
   "metadata": {},
   "outputs": [
    {
     "data": {
      "text/plain": [
       "Index(['Total_Population', 'Sum of Total_Low_Income',\n",
       "       'Average Monthly Beneficiaries'],\n",
       "      dtype='object')"
      ]
     },
     "execution_count": 36,
     "metadata": {},
     "output_type": "execute_result"
    }
   ],
   "source": [
    "ny_county4.columns"
   ]
  },
  {
   "cell_type": "code",
   "execution_count": 49,
   "metadata": {},
   "outputs": [],
   "source": [
    "ny_county4.rename(columns = {'Total_Population' : 'Population', 'Sum of Total_Low_Income' : 'Low Income', 'Average Monthly Beneficiaries' : 'Beneficiaries'}, inplace = True)"
   ]
  },
  {
   "cell_type": "code",
   "execution_count": 17,
   "metadata": {},
   "outputs": [],
   "source": [
    "# This option ensures the graphs are displayed without the need to \"call\" them specifically.\n",
    "\n",
    "%matplotlib inline"
   ]
  },
  {
   "cell_type": "markdown",
   "metadata": {},
   "source": [
    "I want to look at the relationship between the total population with total low income in all NY census tracts."
   ]
  },
  {
   "cell_type": "markdown",
   "metadata": {},
   "source": [
    "### 5. Elbow technique"
   ]
  },
  {
   "cell_type": "code",
   "execution_count": 20,
   "metadata": {},
   "outputs": [],
   "source": [
    "num_cl = range(1, 10) # Defines the range of potential clusters in the data.\n",
    "kmeans = [KMeans(n_clusters=i) for i in num_cl] # Defines k-means clusters in the range assigned above."
   ]
  },
  {
   "cell_type": "code",
   "execution_count": 40,
   "metadata": {},
   "outputs": [
    {
     "name": "stderr",
     "output_type": "stream",
     "text": [
      "C:\\Users\\howl6\\anaconda3\\lib\\site-packages\\sklearn\\cluster\\_kmeans.py:881: UserWarning: KMeans is known to have a memory leak on Windows with MKL, when there are less chunks than available threads. You can avoid it by setting the environment variable OMP_NUM_THREADS=1.\n",
      "  warnings.warn(\n"
     ]
    },
    {
     "data": {
      "text/plain": [
       "[-19170811510.411766,\n",
       " -7253416886.291667,\n",
       " -3282550934.5317454,\n",
       " -2120953556.0921714,\n",
       " -1629424690.6750002,\n",
       " -1134081361.5477273,\n",
       " -841762854.9253968,\n",
       " -538256728.2861111,\n",
       " -461802853.5920635]"
      ]
     },
     "execution_count": 40,
     "metadata": {},
     "output_type": "execute_result"
    }
   ],
   "source": [
    "score = [kmeans[i].fit(ny_county4).score(ny_county4) for i in range(len(kmeans))] # Creates a score that represents \n",
    "# a rate of variation for the given cluster option.\n",
    "\n",
    "score"
   ]
  },
  {
   "cell_type": "code",
   "execution_count": 41,
   "metadata": {},
   "outputs": [
    {
     "data": {
      "image/png": "[encoded data removed]",
      "text/plain": [
       "<Figure size 432x288 with 1 Axes>"
      ]
     },
     "metadata": {
      "needs_background": "light"
     },
     "output_type": "display_data"
    }
   ],
   "source": [
    "# Plot the elbow curve using PyLab.\n",
    "\n",
    "pl.plot(num_cl,score)\n",
    "pl.xlabel('Number of Clusters')\n",
    "pl.ylabel('Score')\n",
    "pl.title('Elbow Curve')\n",
    "pl.show()"
   ]
  },
  {
   "cell_type": "markdown",
   "metadata": {},
   "source": [
    "#### The curve begins to straighten out after three; therefore the optimal cluster count is three."
   ]
  },
  {
   "cell_type": "markdown",
   "metadata": {
    "scrolled": true
   },
   "source": [
    "### k-means clustering"
   ]
  },
  {
   "cell_type": "code",
   "execution_count": 42,
   "metadata": {},
   "outputs": [],
   "source": [
    "# Create the k-means object.\n",
    "\n",
    "kmeans = KMeans(n_clusters = 3, n_jobs = -1) \n"
   ]
  },
  {
   "cell_type": "code",
   "execution_count": 43,
   "metadata": {},
   "outputs": [
    {
     "name": "stderr",
     "output_type": "stream",
     "text": [
      "C:\\Users\\howl6\\anaconda3\\lib\\site-packages\\sklearn\\cluster\\_kmeans.py:792: FutureWarning: 'n_jobs' was deprecated in version 0.23 and will be removed in 1.0 (renaming of 0.25).\n",
      "  warnings.warn(\"'n_jobs' was deprecated in version 0.23 and will be\"\n"
     ]
    },
    {
     "data": {
      "text/plain": [
       "KMeans(n_clusters=3, n_jobs=-1)"
      ]
     },
     "execution_count": 43,
     "metadata": {},
     "output_type": "execute_result"
    }
   ],
   "source": [
    "# Fit the k-means object to the data.\n",
    "\n",
    "kmeans.fit(ny_county4)"
   ]
  },
  {
   "cell_type": "code",
   "execution_count": 44,
   "metadata": {},
   "outputs": [
    {
     "name": "stderr",
     "output_type": "stream",
     "text": [
      "C:\\Users\\howl6\\anaconda3\\lib\\site-packages\\sklearn\\cluster\\_kmeans.py:792: FutureWarning: 'n_jobs' was deprecated in version 0.23 and will be removed in 1.0 (renaming of 0.25).\n",
      "  warnings.warn(\"'n_jobs' was deprecated in version 0.23 and will be\"\n"
     ]
    }
   ],
   "source": [
    "ny_county4['clusters'] = kmeans.fit_predict(ny_county4)"
   ]
  },
  {
   "cell_type": "code",
   "execution_count": 56,
   "metadata": {},
   "outputs": [
    {
     "data": {
      "text/html": [
       "<div>\n",
       "<style scoped>\n",
       "    .dataframe tbody tr th:only-of-type {\n",
       "        vertical-align: middle;\n",
       "    }\n",
       "\n",
       "    .dataframe tbody tr th {\n",
       "        vertical-align: top;\n",
       "    }\n",
       "\n",
       "    .dataframe thead th {\n",
       "        text-align: right;\n",
       "    }\n",
       "</style>\n",
       "<table border=\"1\" class=\"dataframe\">\n",
       "  <thead>\n",
       "    <tr style=\"text-align: right;\">\n",
       "      <th></th>\n",
       "      <th>Population</th>\n",
       "      <th>Low Income</th>\n",
       "      <th>Beneficiaries</th>\n",
       "      <th>clusters</th>\n",
       "    </tr>\n",
       "  </thead>\n",
       "  <tbody>\n",
       "    <tr>\n",
       "      <th>0</th>\n",
       "      <td>48946</td>\n",
       "      <td>16451</td>\n",
       "      <td>8696</td>\n",
       "      <td>1</td>\n",
       "    </tr>\n",
       "    <tr>\n",
       "      <th>1</th>\n",
       "      <td>80317</td>\n",
       "      <td>29283</td>\n",
       "      <td>15125</td>\n",
       "      <td>0</td>\n",
       "    </tr>\n",
       "    <tr>\n",
       "      <th>2</th>\n",
       "      <td>80026</td>\n",
       "      <td>22934</td>\n",
       "      <td>13683</td>\n",
       "      <td>0</td>\n",
       "    </tr>\n",
       "    <tr>\n",
       "      <th>3</th>\n",
       "      <td>88830</td>\n",
       "      <td>28180</td>\n",
       "      <td>17994</td>\n",
       "      <td>0</td>\n",
       "    </tr>\n",
       "    <tr>\n",
       "      <th>4</th>\n",
       "      <td>50477</td>\n",
       "      <td>17390</td>\n",
       "      <td>9844</td>\n",
       "      <td>1</td>\n",
       "    </tr>\n",
       "  </tbody>\n",
       "</table>\n",
       "</div>"
      ],
      "text/plain": [
       "   Population  Low Income  Beneficiaries  clusters\n",
       "0       48946       16451           8696         1\n",
       "1       80317       29283          15125         0\n",
       "2       80026       22934          13683         0\n",
       "3       88830       28180          17994         0\n",
       "4       50477       17390           9844         1"
      ]
     },
     "execution_count": 56,
     "metadata": {},
     "output_type": "execute_result"
    }
   ],
   "source": [
    "ny_county4.head()"
   ]
  },
  {
   "cell_type": "code",
   "execution_count": 57,
   "metadata": {},
   "outputs": [
    {
     "data": {
      "text/plain": [
       "1    18\n",
       "0     9\n",
       "2     7\n",
       "Name: clusters, dtype: int64"
      ]
     },
     "execution_count": 57,
     "metadata": {},
     "output_type": "execute_result"
    }
   ],
   "source": [
    "ny_county4['clusters'].value_counts()"
   ]
  },
  {
   "cell_type": "code",
   "execution_count": 65,
   "metadata": {},
   "outputs": [
    {
     "data": {
      "image/png": "[encoded data removed]",
      "text/plain": [
       "<Figure size 864x576 with 1 Axes>"
      ]
     },
     "metadata": {
      "needs_background": "light"
     },
     "output_type": "display_data"
    }
   ],
   "source": [
    "# Plot the clusters for the \"Population\" and \"Low Income\" variables.\n",
    "\n",
    "plt.figure(figsize=(12,8))\n",
    "ax = sns.scatterplot(x=ny_county4['Low Income'], y=ny_county4['Population'], hue=kmeans.labels_, s=100) \n",
    "# Here, you're subsetting `X` for the x and y arguments to avoid using their labels. \n",
    "# `hue` takes the value of the attribute `kmeans.labels_`, which is the result of running the k-means algorithm.\n",
    "# `s` represents the size of the points you want to see in the plot.\n",
    "\n",
    "ax.grid(False) # This removes the grid from the background.\n",
    "plt.xlabel('Low Income') # Label x-axis.\n",
    "plt.ylabel('Population') # Label y-axis.\n",
    "plt.show()"
   ]
  },
  {
   "cell_type": "markdown",
   "metadata": {},
   "source": [
    "The medium purple cluster is the most populated cluster, and reflects total populations between 40-65,000 having a low income population primarily between 15-22,000. The dark purple reflects that total populations at or below 40,000 primarily have low income populations at or below 10,000.  The pink cluster reflects that total populations at or above 70,000 have low income populations primarily above 20,000."
   ]
  },
  {
   "cell_type": "code",
   "execution_count": 66,
   "metadata": {},
   "outputs": [
    {
     "data": {
      "image/png": "[encoded data removed]",
      "text/plain": [
       "<Figure size 864x576 with 1 Axes>"
      ]
     },
     "metadata": {
      "needs_background": "light"
     },
     "output_type": "display_data"
    }
   ],
   "source": [
    "# Plot the clusters for the \"Beneficiaries\" and \"Population\" variables.\n",
    "\n",
    "plt.figure(figsize=(12,8))\n",
    "ax = sns.scatterplot(x=ny_county4['Beneficiaries'], y=ny_county4['Population'], hue=kmeans.labels_, s=100) \n",
    "# Here, you're subsetting `X` for the x and y arguments to avoid using their labels. \n",
    "# `hue` takes the value of the attribute `kmeans.labels_`, which is the result of running the k-means algorithm.\n",
    "# `s` represents the size of the points you want to see in the plot.\n",
    "\n",
    "ax.grid(False) # This removes the grid from the background.\n",
    "plt.xlabel('Beneficiaries') # Label x-axis.\n",
    "plt.ylabel('Population') # Label y-axis.\n",
    "plt.show()"
   ]
  },
  {
   "cell_type": "markdown",
   "metadata": {},
   "source": [
    "The medium purple cluster is the most populated cluster, and reflects total populations between 40-65,000 having total average Medicaid beneficiaries primarily between 8-15,000. The dark purple reflects that total populations at or below 40,000 primarily have average beneficiaries below 7500.  The pink cluster reflects that total populations at or above 70,000 have average beneficiaries primarily at or above 15,000, with a couple of outliers, one around 7500 and one around 10000."
   ]
  },
  {
   "cell_type": "code",
   "execution_count": 68,
   "metadata": {
    "scrolled": true
   },
   "outputs": [],
   "source": [
    "ny_county4.loc[ny_county4['clusters'] == 2, 'cluster'] = 'dark purple'\n",
    "ny_county4.loc[ny_county4['clusters'] == 1, 'cluster'] = 'purple'\n",
    "ny_county4.loc[ny_county4['clusters'] == 0, 'cluster'] = 'pink'"
   ]
  },
  {
   "cell_type": "code",
   "execution_count": 69,
   "metadata": {},
   "outputs": [
    {
     "data": {
      "text/html": [
       "<div>\n",
       "<style scoped>\n",
       "    .dataframe tbody tr th:only-of-type {\n",
       "        vertical-align: middle;\n",
       "    }\n",
       "\n",
       "    .dataframe tbody tr th {\n",
       "        vertical-align: top;\n",
       "    }\n",
       "\n",
       "    .dataframe thead tr th {\n",
       "        text-align: left;\n",
       "    }\n",
       "\n",
       "    .dataframe thead tr:last-of-type th {\n",
       "        text-align: right;\n",
       "    }\n",
       "</style>\n",
       "<table border=\"1\" class=\"dataframe\">\n",
       "  <thead>\n",
       "    <tr>\n",
       "      <th></th>\n",
       "      <th colspan=\"2\" halign=\"left\">Population</th>\n",
       "      <th colspan=\"2\" halign=\"left\">Low Income</th>\n",
       "      <th colspan=\"2\" halign=\"left\">Beneficiaries</th>\n",
       "    </tr>\n",
       "    <tr>\n",
       "      <th></th>\n",
       "      <th>mean</th>\n",
       "      <th>median</th>\n",
       "      <th>mean</th>\n",
       "      <th>median</th>\n",
       "      <th>mean</th>\n",
       "      <th>median</th>\n",
       "    </tr>\n",
       "    <tr>\n",
       "      <th>cluster</th>\n",
       "      <th></th>\n",
       "      <th></th>\n",
       "      <th></th>\n",
       "      <th></th>\n",
       "      <th></th>\n",
       "      <th></th>\n",
       "    </tr>\n",
       "  </thead>\n",
       "  <tbody>\n",
       "    <tr>\n",
       "      <th>dark purple</th>\n",
       "      <td>26140.571429</td>\n",
       "      <td>27087</td>\n",
       "      <td>7710.714286</td>\n",
       "      <td>8757</td>\n",
       "      <td>4146.000000</td>\n",
       "      <td>4498.0</td>\n",
       "    </tr>\n",
       "    <tr>\n",
       "      <th>pink</th>\n",
       "      <td>86084.666667</td>\n",
       "      <td>82128</td>\n",
       "      <td>24262.666667</td>\n",
       "      <td>23618</td>\n",
       "      <td>14556.444444</td>\n",
       "      <td>15073.0</td>\n",
       "    </tr>\n",
       "    <tr>\n",
       "      <th>purple</th>\n",
       "      <td>54652.277778</td>\n",
       "      <td>51362</td>\n",
       "      <td>16573.555556</td>\n",
       "      <td>16677</td>\n",
       "      <td>9423.222222</td>\n",
       "      <td>9195.5</td>\n",
       "    </tr>\n",
       "  </tbody>\n",
       "</table>\n",
       "</div>"
      ],
      "text/plain": [
       "               Population           Low Income        Beneficiaries         \n",
       "                     mean median          mean median          mean   median\n",
       "cluster                                                                     \n",
       "dark purple  26140.571429  27087   7710.714286   8757   4146.000000   4498.0\n",
       "pink         86084.666667  82128  24262.666667  23618  14556.444444  15073.0\n",
       "purple       54652.277778  51362  16573.555556  16677   9423.222222   9195.5"
      ]
     },
     "execution_count": 69,
     "metadata": {},
     "output_type": "execute_result"
    }
   ],
   "source": [
    "ny_county4.groupby('cluster').agg({'Population':['mean', 'median'], \n",
    "                         'Low Income':['mean', 'median'], \n",
    "                         'Beneficiaries':['mean', 'median']})"
   ]
  },
  {
   "cell_type": "markdown",
   "metadata": {},
   "source": [
    "### 7. Evaluate results"
   ]
  },
  {
   "cell_type": "markdown",
   "metadata": {},
   "source": [
    "The pink cluster has the highest statistics for all three variables.  The median population for this cluster is 82,128, has a median low income population of 23,618, and a median of 15,073 Medicaid beneficiaries.  This suggests for instance that about a quarter of the population in the counties reflected in this cluster are also in the low income population, and almost two thirds of the low income population in this cluster may be Medicaid beneficiaries. Since this dataset reflects populations at or below 100,000, the k-means clusters and descriptive statistics highlight that for counties at the high end of total population, disparities regarding low income and Medicaid utilization are more evident.  This may be a reflection of counties that are closer to urban centers where total population is likely to be higher than in rural counties.\n",
    "\n",
    "Since I'm interested in examining food deserts, the purple cluster in particular may be an area of further exploration, as it was the most populated cluster and reflects a smaller subset of total population.  This may suggest populations that may be more diverse in terms of geography and rural vs. urban.  \n",
    "\n",
    "The choropleth analysis conducted earlier suggested that populations located in proximity to larger urban centers are less likely to be in a food desert tract.  Therefore. analysis of regions with smaller populations and further from urban centers may provide further insights into the prevalence of food deserts in these regions."
   ]
  },
  {
   "cell_type": "code",
   "execution_count": null,
   "metadata": {},
   "outputs": [],
   "source": []
  }
 ],
 "metadata": {
  "kernelspec": {
   "display_name": "Python 3 (ipykernel)",
   "language": "python",
   "name": "python3"
  },
  "language_info": {
   "codemirror_mode": {
    "name": "ipython",
    "version": 3
   },
   "file_extension": ".py",
   "mimetype": "text/x-python",
   "name": "python",
   "nbconvert_exporter": "python",
   "pygments_lexer": "ipython3",
   "version": "3.9.7"
  }
 },
 "nbformat": 4,
 "nbformat_minor": 4
}
