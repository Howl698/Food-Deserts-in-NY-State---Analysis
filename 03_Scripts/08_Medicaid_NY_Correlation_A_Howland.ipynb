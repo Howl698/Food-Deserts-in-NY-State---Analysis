{
 "cells": [
  {
   "cell_type": "markdown",
   "metadata": {},
   "source": [
    "# NY Medicaid Correlation Analysis\n"
   ]
  },
  {
   "cell_type": "markdown",
   "metadata": {},
   "source": [
    "## This script contains the following points:\n",
    "1. Import libraries\n",
    "2. Import NY_county3_total.csv dataset\n",
    "3. Verify the dataset\n",
    "4. Correlation Analysis"
   ]
  },
  {
   "cell_type": "markdown",
   "metadata": {},
   "source": [
    "### 1. Importing Libraries"
   ]
  },
  {
   "cell_type": "code",
   "execution_count": 4,
   "metadata": {
    "_kg_hide-input": false
   },
   "outputs": [],
   "source": [
    "import numpy as np # linear algebra\n",
    "import os # accessing directory structure\n",
    "import pandas as pd # data processing, CSV file I/O (e.g. pd.read_csv)\n",
    "# import visualization libraries\n",
    "import seaborn as sns\n",
    "import matplotlib\n",
    "import matplotlib.pyplot as plt\n",
    "import sklearn\n",
    "from sklearn.model_selection import train_test_split \n",
    "from sklearn.linear_model import LinearRegression\n",
    "from sklearn.metrics import mean_squared_error, r2_score"
   ]
  },
  {
   "cell_type": "markdown",
   "metadata": {},
   "source": [
    "### 2. Importing NY State dataset"
   ]
  },
  {
   "cell_type": "markdown",
   "metadata": {},
   "source": [
    "The dataset NY_county3_total.csv was created by combining data from the USDA FOOD Access Research Atlas and NY State Medicaid data, inclusive of NYS counties with total populations of 100k or less, Total Low Income populations in those counties, and average monthly beneficiaries.\n",
    "\n",
    "NY State Medicaid data prepared by NYS Department of Health, Fiscal Management Group, FSSU, Data Management @ https://www.health.ny.gov/statistics/health_care/medicaid/quarterly/ssd/.\n"
   ]
  },
  {
   "cell_type": "code",
   "execution_count": 5,
   "metadata": {},
   "outputs": [],
   "source": [
    "path = r'C:\\Users\\howl6\\OneDrive\\Certificates\\CareerFoundry\\Coursework\\Data_Immersion\\Chapter 6\\Food_Desert'"
   ]
  },
  {
   "cell_type": "code",
   "execution_count": 6,
   "metadata": {},
   "outputs": [],
   "source": [
    "ny_county = pd.read_csv(os.path.join(path, '02_Data', 'cleaned_data', 'NY_county3_total.csv'), index_col=False)"
   ]
  },
  {
   "cell_type": "code",
   "execution_count": 7,
   "metadata": {},
   "outputs": [],
   "source": [
    "pd.set_option('display.max_rows', 500)\n",
    "pd.set_option('display.max_columns', 500)"
   ]
  },
  {
   "cell_type": "markdown",
   "metadata": {},
   "source": [
    "### 3. Verify the dataset"
   ]
  },
  {
   "cell_type": "code",
   "execution_count": 8,
   "metadata": {
    "scrolled": false
   },
   "outputs": [
    {
     "data": {
      "text/html": [
       "<div>\n",
       "<style scoped>\n",
       "    .dataframe tbody tr th:only-of-type {\n",
       "        vertical-align: middle;\n",
       "    }\n",
       "\n",
       "    .dataframe tbody tr th {\n",
       "        vertical-align: top;\n",
       "    }\n",
       "\n",
       "    .dataframe thead th {\n",
       "        text-align: right;\n",
       "    }\n",
       "</style>\n",
       "<table border=\"1\" class=\"dataframe\">\n",
       "  <thead>\n",
       "    <tr style=\"text-align: right;\">\n",
       "      <th></th>\n",
       "      <th>Unnamed: 0</th>\n",
       "      <th>County</th>\n",
       "      <th>Total_Population</th>\n",
       "      <th>Sum of Total_Low_Income</th>\n",
       "      <th>Average Monthly Beneficiaries</th>\n",
       "      <th>Population_flag</th>\n",
       "    </tr>\n",
       "  </thead>\n",
       "  <tbody>\n",
       "    <tr>\n",
       "      <th>0</th>\n",
       "      <td>1</td>\n",
       "      <td>Allegany</td>\n",
       "      <td>48946</td>\n",
       "      <td>16451</td>\n",
       "      <td>8696</td>\n",
       "      <td>Low_Population</td>\n",
       "    </tr>\n",
       "    <tr>\n",
       "      <th>1</th>\n",
       "      <td>3</td>\n",
       "      <td>Cattaraugus</td>\n",
       "      <td>80317</td>\n",
       "      <td>29283</td>\n",
       "      <td>15125</td>\n",
       "      <td>Low_Population</td>\n",
       "    </tr>\n",
       "    <tr>\n",
       "      <th>2</th>\n",
       "      <td>4</td>\n",
       "      <td>Cayuga</td>\n",
       "      <td>80026</td>\n",
       "      <td>22934</td>\n",
       "      <td>13683</td>\n",
       "      <td>Low_Population</td>\n",
       "    </tr>\n",
       "    <tr>\n",
       "      <th>3</th>\n",
       "      <td>6</td>\n",
       "      <td>Chemung</td>\n",
       "      <td>88830</td>\n",
       "      <td>28180</td>\n",
       "      <td>17994</td>\n",
       "      <td>Low_Population</td>\n",
       "    </tr>\n",
       "    <tr>\n",
       "      <th>4</th>\n",
       "      <td>7</td>\n",
       "      <td>Chenango</td>\n",
       "      <td>50477</td>\n",
       "      <td>17390</td>\n",
       "      <td>9844</td>\n",
       "      <td>Low_Population</td>\n",
       "    </tr>\n",
       "    <tr>\n",
       "      <th>5</th>\n",
       "      <td>8</td>\n",
       "      <td>Clinton</td>\n",
       "      <td>82128</td>\n",
       "      <td>23298</td>\n",
       "      <td>14817</td>\n",
       "      <td>Low_Population</td>\n",
       "    </tr>\n",
       "    <tr>\n",
       "      <th>6</th>\n",
       "      <td>9</td>\n",
       "      <td>Columbia</td>\n",
       "      <td>63096</td>\n",
       "      <td>16729</td>\n",
       "      <td>9871</td>\n",
       "      <td>Low_Population</td>\n",
       "    </tr>\n",
       "    <tr>\n",
       "      <th>7</th>\n",
       "      <td>10</td>\n",
       "      <td>Cortland</td>\n",
       "      <td>49336</td>\n",
       "      <td>14994</td>\n",
       "      <td>9248</td>\n",
       "      <td>Low_Population</td>\n",
       "    </tr>\n",
       "    <tr>\n",
       "      <th>8</th>\n",
       "      <td>11</td>\n",
       "      <td>Delaware</td>\n",
       "      <td>47980</td>\n",
       "      <td>15031</td>\n",
       "      <td>8159</td>\n",
       "      <td>Low_Population</td>\n",
       "    </tr>\n",
       "    <tr>\n",
       "      <th>9</th>\n",
       "      <td>14</td>\n",
       "      <td>Essex</td>\n",
       "      <td>39370</td>\n",
       "      <td>10275</td>\n",
       "      <td>5949</td>\n",
       "      <td>Low_Population</td>\n",
       "    </tr>\n",
       "    <tr>\n",
       "      <th>10</th>\n",
       "      <td>15</td>\n",
       "      <td>Franklin</td>\n",
       "      <td>51599</td>\n",
       "      <td>16914</td>\n",
       "      <td>9143</td>\n",
       "      <td>Low_Population</td>\n",
       "    </tr>\n",
       "    <tr>\n",
       "      <th>11</th>\n",
       "      <td>16</td>\n",
       "      <td>Fulton</td>\n",
       "      <td>55531</td>\n",
       "      <td>19378</td>\n",
       "      <td>12008</td>\n",
       "      <td>Low_Population</td>\n",
       "    </tr>\n",
       "    <tr>\n",
       "      <th>12</th>\n",
       "      <td>17</td>\n",
       "      <td>Genesee</td>\n",
       "      <td>60079</td>\n",
       "      <td>15181</td>\n",
       "      <td>8381</td>\n",
       "      <td>Low_Population</td>\n",
       "    </tr>\n",
       "    <tr>\n",
       "      <th>13</th>\n",
       "      <td>18</td>\n",
       "      <td>Greene</td>\n",
       "      <td>49221</td>\n",
       "      <td>14223</td>\n",
       "      <td>8354</td>\n",
       "      <td>Low_Population</td>\n",
       "    </tr>\n",
       "    <tr>\n",
       "      <th>14</th>\n",
       "      <td>19</td>\n",
       "      <td>Hamilton</td>\n",
       "      <td>4836</td>\n",
       "      <td>1223</td>\n",
       "      <td>620</td>\n",
       "      <td>Low_Population</td>\n",
       "    </tr>\n",
       "    <tr>\n",
       "      <th>15</th>\n",
       "      <td>20</td>\n",
       "      <td>Herkimer</td>\n",
       "      <td>64519</td>\n",
       "      <td>21286</td>\n",
       "      <td>13002</td>\n",
       "      <td>Low_Population</td>\n",
       "    </tr>\n",
       "    <tr>\n",
       "      <th>16</th>\n",
       "      <td>22</td>\n",
       "      <td>Lewis</td>\n",
       "      <td>27087</td>\n",
       "      <td>9113</td>\n",
       "      <td>4498</td>\n",
       "      <td>Low_Population</td>\n",
       "    </tr>\n",
       "    <tr>\n",
       "      <th>17</th>\n",
       "      <td>23</td>\n",
       "      <td>Livingston</td>\n",
       "      <td>65393</td>\n",
       "      <td>17137</td>\n",
       "      <td>8971</td>\n",
       "      <td>Low_Population</td>\n",
       "    </tr>\n",
       "    <tr>\n",
       "      <th>18</th>\n",
       "      <td>24</td>\n",
       "      <td>Madison</td>\n",
       "      <td>73442</td>\n",
       "      <td>18176</td>\n",
       "      <td>10879</td>\n",
       "      <td>Low_Population</td>\n",
       "    </tr>\n",
       "    <tr>\n",
       "      <th>19</th>\n",
       "      <td>26</td>\n",
       "      <td>Montgomery</td>\n",
       "      <td>50219</td>\n",
       "      <td>20903</td>\n",
       "      <td>11868</td>\n",
       "      <td>Low_Population</td>\n",
       "    </tr>\n",
       "    <tr>\n",
       "      <th>20</th>\n",
       "      <td>34</td>\n",
       "      <td>Orleans</td>\n",
       "      <td>42883</td>\n",
       "      <td>14008</td>\n",
       "      <td>8195</td>\n",
       "      <td>Low_Population</td>\n",
       "    </tr>\n",
       "    <tr>\n",
       "      <th>21</th>\n",
       "      <td>36</td>\n",
       "      <td>Otsego</td>\n",
       "      <td>62259</td>\n",
       "      <td>18748</td>\n",
       "      <td>9578</td>\n",
       "      <td>Low_Population</td>\n",
       "    </tr>\n",
       "    <tr>\n",
       "      <th>22</th>\n",
       "      <td>37</td>\n",
       "      <td>Putnam</td>\n",
       "      <td>99710</td>\n",
       "      <td>12914</td>\n",
       "      <td>6940</td>\n",
       "      <td>Low_Population</td>\n",
       "    </tr>\n",
       "    <tr>\n",
       "      <th>23</th>\n",
       "      <td>43</td>\n",
       "      <td>Schoharie</td>\n",
       "      <td>32749</td>\n",
       "      <td>8757</td>\n",
       "      <td>4971</td>\n",
       "      <td>Low_Population</td>\n",
       "    </tr>\n",
       "    <tr>\n",
       "      <th>24</th>\n",
       "      <td>44</td>\n",
       "      <td>Schuyler</td>\n",
       "      <td>18343</td>\n",
       "      <td>6359</td>\n",
       "      <td>3474</td>\n",
       "      <td>Low_Population</td>\n",
       "    </tr>\n",
       "    <tr>\n",
       "      <th>25</th>\n",
       "      <td>45</td>\n",
       "      <td>Seneca</td>\n",
       "      <td>35251</td>\n",
       "      <td>10204</td>\n",
       "      <td>5483</td>\n",
       "      <td>Low_Population</td>\n",
       "    </tr>\n",
       "    <tr>\n",
       "      <th>26</th>\n",
       "      <td>47</td>\n",
       "      <td>Steuben</td>\n",
       "      <td>98990</td>\n",
       "      <td>34073</td>\n",
       "      <td>18376</td>\n",
       "      <td>Low_Population</td>\n",
       "    </tr>\n",
       "    <tr>\n",
       "      <th>27</th>\n",
       "      <td>49</td>\n",
       "      <td>Sullivan</td>\n",
       "      <td>77547</td>\n",
       "      <td>23618</td>\n",
       "      <td>18121</td>\n",
       "      <td>Low_Population</td>\n",
       "    </tr>\n",
       "    <tr>\n",
       "      <th>28</th>\n",
       "      <td>50</td>\n",
       "      <td>Tioga</td>\n",
       "      <td>51125</td>\n",
       "      <td>13820</td>\n",
       "      <td>8062</td>\n",
       "      <td>Low_Population</td>\n",
       "    </tr>\n",
       "    <tr>\n",
       "      <th>29</th>\n",
       "      <td>53</td>\n",
       "      <td>Warren</td>\n",
       "      <td>65707</td>\n",
       "      <td>16625</td>\n",
       "      <td>10173</td>\n",
       "      <td>Low_Population</td>\n",
       "    </tr>\n",
       "    <tr>\n",
       "      <th>30</th>\n",
       "      <td>54</td>\n",
       "      <td>Washington</td>\n",
       "      <td>63216</td>\n",
       "      <td>18769</td>\n",
       "      <td>10674</td>\n",
       "      <td>Low_Population</td>\n",
       "    </tr>\n",
       "    <tr>\n",
       "      <th>31</th>\n",
       "      <td>55</td>\n",
       "      <td>Wayne</td>\n",
       "      <td>93772</td>\n",
       "      <td>25888</td>\n",
       "      <td>15073</td>\n",
       "      <td>Low_Population</td>\n",
       "    </tr>\n",
       "    <tr>\n",
       "      <th>32</th>\n",
       "      <td>57</td>\n",
       "      <td>Wyoming</td>\n",
       "      <td>42155</td>\n",
       "      <td>10737</td>\n",
       "      <td>5391</td>\n",
       "      <td>Low_Population</td>\n",
       "    </tr>\n",
       "    <tr>\n",
       "      <th>33</th>\n",
       "      <td>58</td>\n",
       "      <td>Yates</td>\n",
       "      <td>25348</td>\n",
       "      <td>8044</td>\n",
       "      <td>4027</td>\n",
       "      <td>Low_Population</td>\n",
       "    </tr>\n",
       "  </tbody>\n",
       "</table>\n",
       "</div>"
      ],
      "text/plain": [
       "    Unnamed: 0       County  Total_Population  Sum of Total_Low_Income  \\\n",
       "0            1     Allegany             48946                    16451   \n",
       "1            3  Cattaraugus             80317                    29283   \n",
       "2            4       Cayuga             80026                    22934   \n",
       "3            6      Chemung             88830                    28180   \n",
       "4            7     Chenango             50477                    17390   \n",
       "5            8      Clinton             82128                    23298   \n",
       "6            9     Columbia             63096                    16729   \n",
       "7           10     Cortland             49336                    14994   \n",
       "8           11     Delaware             47980                    15031   \n",
       "9           14        Essex             39370                    10275   \n",
       "10          15     Franklin             51599                    16914   \n",
       "11          16       Fulton             55531                    19378   \n",
       "12          17      Genesee             60079                    15181   \n",
       "13          18       Greene             49221                    14223   \n",
       "14          19     Hamilton              4836                     1223   \n",
       "15          20     Herkimer             64519                    21286   \n",
       "16          22        Lewis             27087                     9113   \n",
       "17          23   Livingston             65393                    17137   \n",
       "18          24      Madison             73442                    18176   \n",
       "19          26   Montgomery             50219                    20903   \n",
       "20          34      Orleans             42883                    14008   \n",
       "21          36       Otsego             62259                    18748   \n",
       "22          37       Putnam             99710                    12914   \n",
       "23          43    Schoharie             32749                     8757   \n",
       "24          44     Schuyler             18343                     6359   \n",
       "25          45       Seneca             35251                    10204   \n",
       "26          47      Steuben             98990                    34073   \n",
       "27          49     Sullivan             77547                    23618   \n",
       "28          50        Tioga             51125                    13820   \n",
       "29          53       Warren             65707                    16625   \n",
       "30          54   Washington             63216                    18769   \n",
       "31          55        Wayne             93772                    25888   \n",
       "32          57      Wyoming             42155                    10737   \n",
       "33          58        Yates             25348                     8044   \n",
       "\n",
       "    Average Monthly Beneficiaries Population_flag  \n",
       "0                            8696  Low_Population  \n",
       "1                           15125  Low_Population  \n",
       "2                           13683  Low_Population  \n",
       "3                           17994  Low_Population  \n",
       "4                            9844  Low_Population  \n",
       "5                           14817  Low_Population  \n",
       "6                            9871  Low_Population  \n",
       "7                            9248  Low_Population  \n",
       "8                            8159  Low_Population  \n",
       "9                            5949  Low_Population  \n",
       "10                           9143  Low_Population  \n",
       "11                          12008  Low_Population  \n",
       "12                           8381  Low_Population  \n",
       "13                           8354  Low_Population  \n",
       "14                            620  Low_Population  \n",
       "15                          13002  Low_Population  \n",
       "16                           4498  Low_Population  \n",
       "17                           8971  Low_Population  \n",
       "18                          10879  Low_Population  \n",
       "19                          11868  Low_Population  \n",
       "20                           8195  Low_Population  \n",
       "21                           9578  Low_Population  \n",
       "22                           6940  Low_Population  \n",
       "23                           4971  Low_Population  \n",
       "24                           3474  Low_Population  \n",
       "25                           5483  Low_Population  \n",
       "26                          18376  Low_Population  \n",
       "27                          18121  Low_Population  \n",
       "28                           8062  Low_Population  \n",
       "29                          10173  Low_Population  \n",
       "30                          10674  Low_Population  \n",
       "31                          15073  Low_Population  \n",
       "32                           5391  Low_Population  \n",
       "33                           4027  Low_Population  "
      ]
     },
     "execution_count": 8,
     "metadata": {},
     "output_type": "execute_result"
    }
   ],
   "source": [
    "ny_county.head(60)"
   ]
  },
  {
   "cell_type": "code",
   "execution_count": 9,
   "metadata": {},
   "outputs": [
    {
     "data": {
      "text/html": [
       "<div>\n",
       "<style scoped>\n",
       "    .dataframe tbody tr th:only-of-type {\n",
       "        vertical-align: middle;\n",
       "    }\n",
       "\n",
       "    .dataframe tbody tr th {\n",
       "        vertical-align: top;\n",
       "    }\n",
       "\n",
       "    .dataframe thead th {\n",
       "        text-align: right;\n",
       "    }\n",
       "</style>\n",
       "<table border=\"1\" class=\"dataframe\">\n",
       "  <thead>\n",
       "    <tr style=\"text-align: right;\">\n",
       "      <th></th>\n",
       "      <th>Unnamed: 0</th>\n",
       "      <th>County</th>\n",
       "      <th>Total_Population</th>\n",
       "      <th>Sum of Total_Low_Income</th>\n",
       "      <th>Average Monthly Beneficiaries</th>\n",
       "      <th>Population_flag</th>\n",
       "    </tr>\n",
       "  </thead>\n",
       "  <tbody>\n",
       "    <tr>\n",
       "      <th>29</th>\n",
       "      <td>53</td>\n",
       "      <td>Warren</td>\n",
       "      <td>65707</td>\n",
       "      <td>16625</td>\n",
       "      <td>10173</td>\n",
       "      <td>Low_Population</td>\n",
       "    </tr>\n",
       "    <tr>\n",
       "      <th>30</th>\n",
       "      <td>54</td>\n",
       "      <td>Washington</td>\n",
       "      <td>63216</td>\n",
       "      <td>18769</td>\n",
       "      <td>10674</td>\n",
       "      <td>Low_Population</td>\n",
       "    </tr>\n",
       "    <tr>\n",
       "      <th>31</th>\n",
       "      <td>55</td>\n",
       "      <td>Wayne</td>\n",
       "      <td>93772</td>\n",
       "      <td>25888</td>\n",
       "      <td>15073</td>\n",
       "      <td>Low_Population</td>\n",
       "    </tr>\n",
       "    <tr>\n",
       "      <th>32</th>\n",
       "      <td>57</td>\n",
       "      <td>Wyoming</td>\n",
       "      <td>42155</td>\n",
       "      <td>10737</td>\n",
       "      <td>5391</td>\n",
       "      <td>Low_Population</td>\n",
       "    </tr>\n",
       "    <tr>\n",
       "      <th>33</th>\n",
       "      <td>58</td>\n",
       "      <td>Yates</td>\n",
       "      <td>25348</td>\n",
       "      <td>8044</td>\n",
       "      <td>4027</td>\n",
       "      <td>Low_Population</td>\n",
       "    </tr>\n",
       "  </tbody>\n",
       "</table>\n",
       "</div>"
      ],
      "text/plain": [
       "    Unnamed: 0      County  Total_Population  Sum of Total_Low_Income  \\\n",
       "29          53      Warren             65707                    16625   \n",
       "30          54  Washington             63216                    18769   \n",
       "31          55       Wayne             93772                    25888   \n",
       "32          57     Wyoming             42155                    10737   \n",
       "33          58       Yates             25348                     8044   \n",
       "\n",
       "    Average Monthly Beneficiaries Population_flag  \n",
       "29                          10173  Low_Population  \n",
       "30                          10674  Low_Population  \n",
       "31                          15073  Low_Population  \n",
       "32                           5391  Low_Population  \n",
       "33                           4027  Low_Population  "
      ]
     },
     "execution_count": 9,
     "metadata": {},
     "output_type": "execute_result"
    }
   ],
   "source": [
    "ny_county.tail()"
   ]
  },
  {
   "cell_type": "code",
   "execution_count": 10,
   "metadata": {},
   "outputs": [
    {
     "data": {
      "text/plain": [
       "(34, 6)"
      ]
     },
     "execution_count": 10,
     "metadata": {},
     "output_type": "execute_result"
    }
   ],
   "source": [
    "ny_county.shape"
   ]
  },
  {
   "cell_type": "code",
   "execution_count": 11,
   "metadata": {},
   "outputs": [
    {
     "data": {
      "text/plain": [
       "Index(['Unnamed: 0', 'County', 'Total_Population', 'Sum of Total_Low_Income',\n",
       "       'Average Monthly Beneficiaries', 'Population_flag'],\n",
       "      dtype='object')"
      ]
     },
     "execution_count": 11,
     "metadata": {},
     "output_type": "execute_result"
    }
   ],
   "source": [
    "ny_county.columns"
   ]
  },
  {
   "cell_type": "code",
   "execution_count": 12,
   "metadata": {},
   "outputs": [
    {
     "data": {
      "text/plain": [
       "Unnamed: 0                        int64\n",
       "County                           object\n",
       "Total_Population                  int64\n",
       "Sum of Total_Low_Income           int64\n",
       "Average Monthly Beneficiaries     int64\n",
       "Population_flag                  object\n",
       "dtype: object"
      ]
     },
     "execution_count": 12,
     "metadata": {},
     "output_type": "execute_result"
    }
   ],
   "source": [
    "ny_county.dtypes"
   ]
  },
  {
   "cell_type": "code",
   "execution_count": 14,
   "metadata": {},
   "outputs": [],
   "source": [
    "ny_county2 = ny_county.drop(columns = ['Unnamed: 0'])"
   ]
  },
  {
   "cell_type": "code",
   "execution_count": 15,
   "metadata": {},
   "outputs": [
    {
     "data": {
      "text/plain": [
       "Index(['County', 'Total_Population', 'Sum of Total_Low_Income',\n",
       "       'Average Monthly Beneficiaries', 'Population_flag'],\n",
       "      dtype='object')"
      ]
     },
     "execution_count": 15,
     "metadata": {},
     "output_type": "execute_result"
    }
   ],
   "source": [
    "ny_county2.columns"
   ]
  },
  {
   "cell_type": "markdown",
   "metadata": {},
   "source": [
    "### 4. Correlation Analyses"
   ]
  },
  {
   "cell_type": "code",
   "execution_count": 14,
   "metadata": {},
   "outputs": [
    {
     "data": {
      "image/png": "[encoded data removed]",
      "text/plain": [
       "<Figure size 720x720 with 2 Axes>"
      ]
     },
     "metadata": {
      "needs_background": "light"
     },
     "output_type": "display_data"
    }
   ],
   "source": [
    "# using matplotlib to create a subplot\n",
    "f,ax = plt.subplots(figsize=(10,10))\n",
    "\n",
    "# using seaborn to create a heatmap of the correlation matrix and subplots of all NY counties\n",
    "corr1 = sns.heatmap(ny_county2.corr(), annot = True, ax = ax)"
   ]
  },
  {
   "cell_type": "code",
   "execution_count": 15,
   "metadata": {},
   "outputs": [
    {
     "data": {
      "image/png": "[encoded data removed]",
      "text/plain": [
       "<Figure size 360x360 with 1 Axes>"
      ]
     },
     "metadata": {
      "needs_background": "light"
     },
     "output_type": "display_data"
    }
   ],
   "source": [
    "# creating a scatterplot for the \"Average Monthly Income\" and \"Total Population\" columns in seaborn for all NY counties\n",
    "scat_1 = sns.lmplot(x = 'Total_Population', y = 'Average Monthly Beneficiaries', data = ny_county2)"
   ]
  },
  {
   "cell_type": "code",
   "execution_count": 16,
   "metadata": {},
   "outputs": [],
   "source": [
    "scat_1.savefig(os.path.join(path, '04_Analysis','Visualizations', 'scatter_NY1.png'))"
   ]
  },
  {
   "cell_type": "code",
   "execution_count": 126,
   "metadata": {},
   "outputs": [],
   "source": [
    "scat_2.savefig(os.path.join(path, '04_Analysis','Visualizations', 'scatter_NY2.png'))"
   ]
  },
  {
   "cell_type": "markdown",
   "metadata": {},
   "source": [
    "I want to look at the relationship between the population of counties with 100k or less and average monthly beneficiaries of Medicaid"
   ]
  },
  {
   "cell_type": "code",
   "execution_count": 17,
   "metadata": {},
   "outputs": [
    {
     "data": {
      "image/png": "[encoded data removed]",
      "text/plain": [
       "<Figure size 432x288 with 1 Axes>"
      ]
     },
     "metadata": {
      "needs_background": "light"
     },
     "output_type": "display_data"
    }
   ],
   "source": [
    "ny_county2.plot(x = 'Total_Population', y='Average Monthly Beneficiaries',style='o') # The style option creates a scatterplot; without it, we only have lines.\n",
    "plt.title('Average Monthly Beneficiaries vs. Total Population')  \n",
    "plt.xlabel('Total Population')  \n",
    "plt.ylabel('Average Monthly Beneficiaries')  \n",
    "plt.show()"
   ]
  },
  {
   "cell_type": "code",
   "execution_count": 18,
   "metadata": {},
   "outputs": [],
   "source": [
    "X = ny_county2['Total_Population'].values.reshape(-1,1)\n",
    "y = ny_county2['Average Monthly Beneficiaries'].values.reshape(-1,1)"
   ]
  },
  {
   "cell_type": "code",
   "execution_count": 19,
   "metadata": {},
   "outputs": [
    {
     "data": {
      "text/plain": [
       "array([[48946],\n",
       "       [80317],\n",
       "       [80026],\n",
       "       [88830],\n",
       "       [50477],\n",
       "       [82128],\n",
       "       [63096],\n",
       "       [49336],\n",
       "       [47980],\n",
       "       [39370],\n",
       "       [51599],\n",
       "       [55531],\n",
       "       [60079],\n",
       "       [49221],\n",
       "       [ 4836],\n",
       "       [64519],\n",
       "       [27087],\n",
       "       [65393],\n",
       "       [73442],\n",
       "       [50219],\n",
       "       [42883],\n",
       "       [62259],\n",
       "       [99710],\n",
       "       [32749],\n",
       "       [18343],\n",
       "       [35251],\n",
       "       [98990],\n",
       "       [77547],\n",
       "       [51125],\n",
       "       [65707],\n",
       "       [63216],\n",
       "       [93772],\n",
       "       [42155],\n",
       "       [25348]], dtype=int64)"
      ]
     },
     "execution_count": 19,
     "metadata": {},
     "output_type": "execute_result"
    }
   ],
   "source": [
    "X"
   ]
  },
  {
   "cell_type": "code",
   "execution_count": 20,
   "metadata": {},
   "outputs": [
    {
     "data": {
      "text/plain": [
       "array([[ 8696],\n",
       "       [15125],\n",
       "       [13683],\n",
       "       [17994],\n",
       "       [ 9844],\n",
       "       [14817],\n",
       "       [ 9871],\n",
       "       [ 9248],\n",
       "       [ 8159],\n",
       "       [ 5949],\n",
       "       [ 9143],\n",
       "       [12008],\n",
       "       [ 8381],\n",
       "       [ 8354],\n",
       "       [  620],\n",
       "       [13002],\n",
       "       [ 4498],\n",
       "       [ 8971],\n",
       "       [10879],\n",
       "       [11868],\n",
       "       [ 8195],\n",
       "       [ 9578],\n",
       "       [ 6940],\n",
       "       [ 4971],\n",
       "       [ 3474],\n",
       "       [ 5483],\n",
       "       [18376],\n",
       "       [18121],\n",
       "       [ 8062],\n",
       "       [10173],\n",
       "       [10674],\n",
       "       [15073],\n",
       "       [ 5391],\n",
       "       [ 4027]], dtype=int64)"
      ]
     },
     "execution_count": 20,
     "metadata": {},
     "output_type": "execute_result"
    }
   ],
   "source": [
    "y"
   ]
  },
  {
   "cell_type": "code",
   "execution_count": 21,
   "metadata": {
    "scrolled": true
   },
   "outputs": [],
   "source": [
    "# Split data into a training set and a test set.\n",
    "\n",
    "X_train, X_test, y_train, y_test = train_test_split(X, y, test_size=0.3, random_state=0)"
   ]
  },
  {
   "cell_type": "code",
   "execution_count": 22,
   "metadata": {},
   "outputs": [],
   "source": [
    "# Create a regression object.\n",
    "\n",
    "regression = LinearRegression()  # This is the regression object, which will be fit onto the training set."
   ]
  },
  {
   "cell_type": "code",
   "execution_count": 23,
   "metadata": {},
   "outputs": [
    {
     "data": {
      "text/plain": [
       "LinearRegression()"
      ]
     },
     "execution_count": 23,
     "metadata": {},
     "output_type": "execute_result"
    }
   ],
   "source": [
    "# Fit the regression object onto the training set.\n",
    "\n",
    "regression.fit(X_train, y_train)"
   ]
  },
  {
   "cell_type": "code",
   "execution_count": 24,
   "metadata": {},
   "outputs": [],
   "source": [
    "# Predict the values of y using X.\n",
    "\n",
    "y_predicted = regression.predict(X_test)"
   ]
  },
  {
   "cell_type": "code",
   "execution_count": 25,
   "metadata": {},
   "outputs": [
    {
     "data": {
      "image/png": "[encoded data removed]",
      "text/plain": [
       "<Figure size 432x288 with 1 Axes>"
      ]
     },
     "metadata": {
      "needs_background": "light"
     },
     "output_type": "display_data"
    }
   ],
   "source": [
    "# Create a plot that shows the regression line from the model on the test set.\n",
    "\n",
    "plot_test = plt\n",
    "plot_test.scatter(X_test, y_test, color='gray', s = 15)\n",
    "plot_test.plot(X_test, y_predicted, color='red', linewidth =3)\n",
    "plot_test.title('Average Monthly Beneficiaries vs. Total Population')\n",
    "plot_test.xlabel('Total Population')\n",
    "plot_test.ylabel('Average Monthly Beneficiaries')\n",
    "plot_test.show()"
   ]
  },
  {
   "cell_type": "code",
   "execution_count": 26,
   "metadata": {},
   "outputs": [],
   "source": [
    "# Create objects that contain the model summary statistics.\n",
    "\n",
    "rmse = mean_squared_error(y_test, y_predicted) # This is the mean squared error\n",
    "r2 = r2_score(y_test, y_predicted) # This is the R2 score. "
   ]
  },
  {
   "cell_type": "code",
   "execution_count": 27,
   "metadata": {},
   "outputs": [
    {
     "name": "stdout",
     "output_type": "stream",
     "text": [
      "Slope: [[0.15111173]]\n",
      "Mean squared error:  1738375.8055227364\n",
      "R2 score:  0.9068781567200445\n"
     ]
    }
   ],
   "source": [
    "# Print the model summary statistics. This is where you evaluate the performance of the model.\n",
    "\n",
    "print('Slope:' ,regression.coef_)\n",
    "print('Mean squared error: ', rmse)\n",
    "print('R2 score: ', r2)"
   ]
  },
  {
   "cell_type": "code",
   "execution_count": 28,
   "metadata": {},
   "outputs": [
    {
     "data": {
      "text/plain": [
       "array([[ 9378.79604153],\n",
       "       [ 7467.5349273 ],\n",
       "       [ 6314.25023218],\n",
       "       [10869.0598863 ],\n",
       "       [13080.27777723],\n",
       "       [15945.96055478],\n",
       "       [15157.45956695],\n",
       "       [ 5080.57409867],\n",
       "       [ 8784.62473372],\n",
       "       [ 4817.79080664],\n",
       "       [10540.08965814]])"
      ]
     },
     "execution_count": 28,
     "metadata": {},
     "output_type": "execute_result"
    }
   ],
   "source": [
    "y_predicted"
   ]
  },
  {
   "cell_type": "code",
   "execution_count": 29,
   "metadata": {},
   "outputs": [
    {
     "data": {
      "text/html": [
       "<div>\n",
       "<style scoped>\n",
       "    .dataframe tbody tr th:only-of-type {\n",
       "        vertical-align: middle;\n",
       "    }\n",
       "\n",
       "    .dataframe tbody tr th {\n",
       "        vertical-align: top;\n",
       "    }\n",
       "\n",
       "    .dataframe thead th {\n",
       "        text-align: right;\n",
       "    }\n",
       "</style>\n",
       "<table border=\"1\" class=\"dataframe\">\n",
       "  <thead>\n",
       "    <tr style=\"text-align: right;\">\n",
       "      <th></th>\n",
       "      <th>Actual</th>\n",
       "      <th>Predicted</th>\n",
       "    </tr>\n",
       "  </thead>\n",
       "  <tbody>\n",
       "    <tr>\n",
       "      <th>0</th>\n",
       "      <td>12008</td>\n",
       "      <td>9378.796042</td>\n",
       "    </tr>\n",
       "    <tr>\n",
       "      <th>1</th>\n",
       "      <td>8195</td>\n",
       "      <td>7467.534927</td>\n",
       "    </tr>\n",
       "    <tr>\n",
       "      <th>2</th>\n",
       "      <td>5483</td>\n",
       "      <td>6314.250232</td>\n",
       "    </tr>\n",
       "    <tr>\n",
       "      <th>3</th>\n",
       "      <td>8971</td>\n",
       "      <td>10869.059886</td>\n",
       "    </tr>\n",
       "    <tr>\n",
       "      <th>4</th>\n",
       "      <td>13683</td>\n",
       "      <td>13080.277777</td>\n",
       "    </tr>\n",
       "    <tr>\n",
       "      <th>5</th>\n",
       "      <td>18376</td>\n",
       "      <td>15945.960555</td>\n",
       "    </tr>\n",
       "    <tr>\n",
       "      <th>6</th>\n",
       "      <td>15073</td>\n",
       "      <td>15157.459567</td>\n",
       "    </tr>\n",
       "    <tr>\n",
       "      <th>7</th>\n",
       "      <td>4498</td>\n",
       "      <td>5080.574099</td>\n",
       "    </tr>\n",
       "    <tr>\n",
       "      <th>8</th>\n",
       "      <td>9143</td>\n",
       "      <td>8784.624734</td>\n",
       "    </tr>\n",
       "    <tr>\n",
       "      <th>9</th>\n",
       "      <td>4027</td>\n",
       "      <td>4817.790807</td>\n",
       "    </tr>\n",
       "    <tr>\n",
       "      <th>10</th>\n",
       "      <td>10674</td>\n",
       "      <td>10540.089658</td>\n",
       "    </tr>\n",
       "  </tbody>\n",
       "</table>\n",
       "</div>"
      ],
      "text/plain": [
       "    Actual     Predicted\n",
       "0    12008   9378.796042\n",
       "1     8195   7467.534927\n",
       "2     5483   6314.250232\n",
       "3     8971  10869.059886\n",
       "4    13683  13080.277777\n",
       "5    18376  15945.960555\n",
       "6    15073  15157.459567\n",
       "7     4498   5080.574099\n",
       "8     9143   8784.624734\n",
       "9     4027   4817.790807\n",
       "10   10674  10540.089658"
      ]
     },
     "execution_count": 29,
     "metadata": {},
     "output_type": "execute_result"
    }
   ],
   "source": [
    "# Create a dataframe comparing the actual and predicted values of y.\n",
    "\n",
    "data = pd.DataFrame({'Actual': y_test.flatten(), 'Predicted': y_predicted.flatten()})\n",
    "data.head(30)"
   ]
  },
  {
   "cell_type": "code",
   "execution_count": 30,
   "metadata": {},
   "outputs": [],
   "source": [
    "# Predict.\n",
    "\n",
    "y_predicted_train = regression.predict(X_train) # This is predicting X_train!"
   ]
  },
  {
   "cell_type": "code",
   "execution_count": 31,
   "metadata": {},
   "outputs": [],
   "source": [
    "rmse = mean_squared_error(y_train, y_predicted_train)\n",
    "r2 = r2_score(y_train, y_predicted_train)"
   ]
  },
  {
   "cell_type": "code",
   "execution_count": 32,
   "metadata": {},
   "outputs": [
    {
     "name": "stdout",
     "output_type": "stream",
     "text": [
      "Slope: [[0.15111173]]\n",
      "Mean squared error:  7083534.170986787\n",
      "R2 score:  0.5984107990348365\n"
     ]
    }
   ],
   "source": [
    "print('Slope:' ,regression.coef_)\n",
    "print('Mean squared error: ', rmse)\n",
    "print('R2 score: ', r2)"
   ]
  },
  {
   "cell_type": "code",
   "execution_count": 33,
   "metadata": {},
   "outputs": [
    {
     "data": {
      "image/png": "[encoded data removed]",
      "text/plain": [
       "<Figure size 432x288 with 1 Axes>"
      ]
     },
     "metadata": {
      "needs_background": "light"
     },
     "output_type": "display_data"
    }
   ],
   "source": [
    "# Visualizing the training set results.\n",
    "\n",
    "plot_test = plt\n",
    "plot_test.scatter(X_train, y_train, color='green', s = 15)\n",
    "plot_test.plot(X_train, y_predicted_train, color='red', linewidth =3)\n",
    "plot_test.title('Average Monthly Beneficiaries vs. Total Population (Test set)')\n",
    "plot_test.xlabel('Total Population')\n",
    "plot_test.ylabel('Average Monthly Beneficiaries')\n",
    "plot_test.show()"
   ]
  },
  {
   "cell_type": "code",
   "execution_count": null,
   "metadata": {},
   "outputs": [],
   "source": []
  }
 ],
 "metadata": {
  "kernelspec": {
   "display_name": "Python 3 (ipykernel)",
   "language": "python",
   "name": "python3"
  },
  "language_info": {
   "codemirror_mode": {
    "name": "ipython",
    "version": 3
   },
   "file_extension": ".py",
   "mimetype": "text/x-python",
   "name": "python",
   "nbconvert_exporter": "python",
   "pygments_lexer": "ipython3",
   "version": "3.9.7"
  }
 },
 "nbformat": 4,
 "nbformat_minor": 4
}
